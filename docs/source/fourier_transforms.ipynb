{
  "cells": [
    {
      "cell_type": "markdown",
      "source": [
        "# Fourier Transforms"
      ],
      "metadata": {
        "nteract": {
          "transient": {
            "deleting": false
          }
        }
      }
    },
    {
      "cell_type": "markdown",
      "source": [
        "## The Fourier Family"
      ],
      "metadata": {
        "nteract": {
          "transient": {
            "deleting": false
          }
        }
      }
    },
    {
      "cell_type": "markdown",
      "source": [
        "### Fourier Series\n",
        "Due to the orthogonality of the sine and cosine functions, any arbitrary periodic function may be represented by its spectral components in a [Fourier series](https://mathworld.wolfram.com/FourierSeries.html):\n",
        "$$\n",
        "f\\!\\left[t\\right] = \\sum_{n=-\\infty}^{\\infty} a_n e^{i \\left(2 \\pi \\ t \\ n/\\Delta t\\right)} \\qquad a_n = \\frac{1}{\\Delta t} \\int_{-\\Delta t/2}^{\\Delta t/2} f\\!\\left[t\\right] e^{-i \\left(2 \\pi \\ t \\ n/\\Delta t\\right)} dt \\\\\n",
        "\\Delta t = \\text{the period of } f\\!\\left[t\\right]\n",
        "$$\n",
        "\n",
        "This relationship can alternatively be expressed as follows:\n",
        "$$\n",
        "f\\!\\left[t\\right] = \\sum_{n=-\\infty}^{\\infty} F\\!\\left[\\nu_n\\right] e^{i \\left(2 \\pi \\ t \\ \\nu_n \\right)} d\\nu  \\qquad F\\!\\left[\\nu_n\\right] = \\int_{-\\Delta t/2}^{\\Delta t/2} f\\!\\left[t\\right] e^{-i \\left(2 \\pi \\ t \\ \\nu_n\\right)} dt \\\\\n",
        "d\\nu = 1/\\Delta t, \\quad \\nu_n = n \\ d\\nu\n",
        "$$\n",
        "\n",
        "where we have replaced $a_n$ with $F\\!\\left[\\nu_n\\right]$ and pulled out the normalization constant ($1/\\Delta t$) from the right to the left equation. This form suggests that a Fourier series can also be interpreted as a relationship between two continuous functions ($f\\!\\left[t\\right]$ and $F\\!\\left[\\nu\\right]$), and that the summation of the Fourier coefficients in the first equation is actually a discrete integral ([Riemann sum](https://mathworld.wolfram.com/RiemannSum.html)) involving the $F\\!\\left[\\nu\\right]$ function evaluated at all $\\nu_n$. The $f\\!\\left[t\\right]$ and $F\\!\\left[\\nu\\right]$ functions of the Fourier series are then integral transforms of one another using a kernel of $\\exp\\left[\\pm i \\left(2 \\pi \\ t \\ \\nu \\right) \\right]$."
      ],
      "metadata": {
        "nteract": {
          "transient": {
            "deleting": false
          }
        }
      }
    },
    {
      "cell_type": "markdown",
      "source": [
        "### Discrete Fourier Transforms\n",
        "An important numeric simplification arises due to the [sampling theorem](https://mathworld.wolfram.com/SamplingTheorem.html). A continuous, periodic signal can be discretely sampled *without any loss of information* if the sample rate is greater than twice the largest frequency component. When this condition holds, the above relationships can be cast as a [discrete Fourier transform](https://mathworld.wolfram.com/DiscreteFourierTransform.html) (DFT):\n",
        "\n",
        "$$\n",
        "f\\!\\left[t_m\\right] = \\sum_{n=-\\lfloor N/2 \\rfloor}^{\\lfloor (N-1)/2 \\rfloor} F\\!\\left[\\nu_n\\right] e^{i \\left(2 \\pi \\ t_m \\ \\nu_n \\right)} d\\nu  \\qquad F\\!\\left[\\nu_n\\right] = \\sum_{m=-\\lfloor N/2 \\rfloor}^{\\lfloor (N-1)/2 \\rfloor} f\\!\\left[t_m\\right] e^{-i \\left(2 \\pi \\ t_m \\ \\nu_n\\right)} dt \\\\\n",
        "t_m = m \\ dt, \\qquad \\nu_n = n \\ d\\nu \\\\\n",
        "N = \\text{the number of sampled points} \\\\\n",
        "N d\\nu = 1 /dt = \\text{the sample rate}\n",
        "$$\n",
        "where $\\lfloor ... \\rfloor$ represents the floor function, and the range of the summation indices $m$ and $n$ are chosen so that the summation indices are the same as the coordinate indices. The transform given by the first equation is called the inverse Fourier transform ($\\nu \\to t$) and that given by the second is called the Fourier transform ($t \\to \\nu$). Because no information is lost if sampling at or above twice the largest frequency component *these relationships carry no approximations* with respect to the periodic functions $f\\!\\left[t\\right]$ or $F\\!\\left[\\nu\\right]$. Due to the efficient [fast Fourier transform](https://mathworld.wolfram.com/FastFourierTransform.html) (FFT) algorithms, DFTs are the preferred method of performing Fourier transforms numerically.\n",
        "\n",
        "An interesting side effect of the sampling theorem is that the representation of the frequency domain becomes periodic. The time range $\\pm 1/(2 \\ d\\nu)$ is the periodic time window that corresponds to sampling the frequency domain in steps of $d\\nu$. Similarly, the frequency range $\\pm 1/ (2 \\ dt)$ is now the periodic frequency window due to sampling the time domain in steps of $dt$. The frequency $\\nu = 1/ (2 \\ dt)$ is called the [Nyquist frequency](https://mathworld.wolfram.com/NyquistFrequency.html), and is the maximum allowed frequency for a given time domain step size. Any components that are at frequencies greater than the Nyquist frequency will [alias](https://mathworld.wolfram.com/Aliasing.html), or wrap, back onto the primary grid.\n",
        "\n",
        "It is helpful to interpret the above equations as discrete integrals that correspond to summations over **grids that are centered on $t_m$ ($\\nu_n$) and extend in bins of $\\pm 0.5 \\ dt$ ($\\pm 0.5 \\ d\\nu$)**. Thus, the integrals span the entire $\\Delta t = N \\ dt = 1 / d\\nu$ and $\\Delta \\nu = N \\ d\\nu = 1/dt$ periodic windows. This is readily seen for grids that contain an odd number of points but requires some more careful consideration when the number of points is even. The minimum coordinate index in that case is $-N/2$, which is exactly at Nyquist, and the maximum index is at $N/2 - 1$, which is one step size below Nyquist. To complete the window, one must only realize that the negative half step from $-N/2$ aliases up to meet the positive half step from $N/2 -1$. This means that for an even number of points the information at the positive Nyquist frequency is aliased down to the negative. While there is enough information to fully represent the sampled points, as predicted by the sampling theorem there is in general not enough to reconstruct the sampled function in its entirety. Thus, a discrete Fourier transform sampled with *an even number of points* is only strictly valid if there is *no amplitude in the Nyquist component*. One special exeption is the discrete Fourier transform of a purely real function. For this case, do to the symmetry inherent in the Fourier transform of a real function the positive and negative Nyquist terms are real and equal, so a DFT sampled at the Nyquist frequency will return two times the amplitude of the actual Nyquist components. The full real-valued function can then be reconstructed by taking half of the amplitude of the negative Nyquist component and placing it in a frequency bin at the positive Nyquist component."
      ],
      "metadata": {
        "nteract": {
          "transient": {
            "deleting": false
          }
        }
      }
    },
    {
      "cell_type": "markdown",
      "source": [
        "### Continuous Fourier Transforms\n",
        "When one instead extends the time window of the Fourier series to infinity, one arrives at the [continuous Fourier transform](https://mathworld.wolfram.com/FourierTransform.html) (FT):\n",
        "\n",
        "$$\n",
        "d\\nu \\to 0 \\quad \\text{as} \\quad T \\to \\infty \\\\\n",
        "f\\!\\left[t\\right] = \\int_{-\\infty}^{\\infty} F\\!\\left[\\nu\\right] e^{+i \\left(2 \\pi \\ t \\ \\nu\\right)} d\\nu \\qquad F\\!\\left[\\nu\\right] = \\int_{-\\infty}^{\\infty} f\\!\\left[t\\right] e^{-i \\left(2 \\pi \\ t \\ \\nu\\right)} dt\n",
        "$$\n",
        "\n",
        "These elegant relationships are useful for representing the frequency content of arbitrary continuous functions, but yield a more complicated representation than the Fourier series or the DFT when the function of interest is itself periodic."
      ],
      "metadata": {
        "nteract": {
          "transient": {
            "deleting": false
          }
        }
      }
    },
    {
      "cell_type": "markdown",
      "source": [
        "## Useful Relationships\n",
        "The relationships of this section are true for both discrete and continuous Fourier transforms. The following generalized notation will be used going forward:\n",
        "\n",
        "$$\n",
        "\\begin{align}\n",
        "\\text{Fourier Transform:} \\quad & F\\!\\left[\\nu\\right] = \\mathscr{F}\\!\\Bigl[f\\!\\left[t\\right]\\Bigr] \\\\\n",
        "\\text{Inverse Fourier Transform:} \\quad & f\\!\\left[t\\right] = \\mathscr{F}^{-1}\\!\\Bigl[F\\!\\left[\\nu\\right]\\Bigr] \\\\\n",
        "\\text{Summation or Integration:} \\quad & \\int_{-\\infty}^{\\infty} ...\n",
        "\\end{align}\n",
        "$$\n",
        "\n",
        "For the discrete case, the summation is assumed to be across all points up to the Nyquist time or frequency."
      ],
      "metadata": {
        "nteract": {
          "transient": {
            "deleting": false
          }
        }
      }
    },
    {
      "cell_type": "markdown",
      "source": [
        "### Linearity\n",
        "$$\n",
        "\\begin{align}\n",
        "a \\ f\\!\\left[t\\right] + b \\ g\\!\\left[t\\right] &= \\mathscr{F}^{-1}\\!\\Bigl[ a \\ F\\!\\left[\\nu\\right] + b \\ G\\!\\left[\\nu\\right] \\Bigr] & a \\ F\\!\\left[\\nu\\right] + b \\ G\\!\\left[\\nu\\right] &= \\mathscr{F}\\!\\Bigl[ a \\ f\\!\\left[t\\right] + b \\ g\\!\\left[t\\right] \\Bigr]\n",
        "\\end{align}\n",
        "$$"
      ],
      "metadata": {
        "nteract": {
          "transient": {
            "deleting": false
          }
        }
      }
    },
    {
      "cell_type": "markdown",
      "source": [
        "### Shifting and Scaling\n",
        "$$\n",
        "\\begin{align}\n",
        "f\\!\\left[t-t_0\\right] & = \\mathscr{F}^{-1}\\!\\left[F\\!\\left[\\nu\\right] e^{-i \\left(2 \\pi \\ t_0 \\ \\nu\\right)}\\right] & F\\!\\left[\\nu - \\nu_0\\right] & = \\mathscr{F}\\!\\left[f\\!\\left[t\\right] e^{+i \\left(2 \\pi \\ t \\ \\nu_0 \\right)} \\right] \\\\\n",
        "f\\!\\left[a \\ t\\right] & = \\mathscr{F}^{-1}\\!\\left[\\frac{1}{\\left\\vert a \\right\\vert} F\\!\\left[\\nu / a\\right] \\right] & F\\!\\left[a \\ \\nu \\right] & = \\mathscr{F}\\!\\left[\\frac{1}{\\left\\vert a \\right\\vert} f\\!\\left[t / a\\right] \\right]\n",
        "\\end{align}\n",
        "$$"
      ],
      "metadata": {
        "nteract": {
          "transient": {
            "deleting": false
          }
        }
      }
    },
    {
      "cell_type": "markdown",
      "source": [
        "### Derivatives and Integrals\n",
        "$$\n",
        "\\begin{align}\n",
        "\\frac{d^{n}}{dt^{n}} f\\!\\left[t\\right] & = \\mathscr{F}^{-1}\\!\\Bigl[ \\left(+i \\ 2 \\pi \\ \\nu\\right)^{n} F\\!\\left[\\nu\\right] \\Bigr] & \\frac{d^{n}}{d\\nu^{n}} F\\!\\left[\\nu\\right] & = \\mathscr{F}\\!\\Bigl[ \\left(-i \\ 2 \\pi \\ t\\right)^{n} f\\!\\left[t\\right] \\Bigr]\n",
        "\\end{align}\n",
        "$$\n",
        "\n",
        "Positive integers $n$ represent derivatives and negative integers represent integrals (antiderivatives). All other possible values of $n$ represent derivatives and integrals in the realm of fractional calculus.\n",
        "\n",
        "Negative values require special care as the integrand diverges at the origin. For continuous transforms the integral is performed using the [Cauchy principal value](https://mathworld.wolfram.com/CauchyPrincipalValue.html) method. Effectively, the Cauchy principal value ensures that the mean of the function is accurately integrated along with the local slope. Without it, the derivatives and integrals are only strictly valid for the class of functions that have $0$ mean value. Leaving out the Cauchy principle value is accomplished by setting the amplitude of the integrand at the origin to $0$, and this is the easiest implimentation for discrete transforms."
      ],
      "metadata": {
        "nteract": {
          "transient": {
            "deleting": false
          }
        }
      }
    },
    {
      "cell_type": "markdown",
      "source": [
        "### Convolutions\n",
        "With convolution defined as:\n",
        "$$\n",
        "\\begin{align}\n",
        "\\left(f * g\\right)\\!\\left[t\\right] & = \\iint_{-\\infty}^{\\infty} f\\!\\left[t_1\\right] g\\!\\left[t_2\\right] \\delta\\!\\left[t - \\left(t_1 + t_2\\right)\\right] dt_1 \\ dt_2 \\\\\n",
        "\\left(F * G\\right)\\!\\left[\\nu\\right] & = \\int_{-\\infty}^{\\infty} F\\!\\left[\\nu_1\\right] G\\!\\left[\\nu_2\\right] \\delta\\!\\left[\\nu - \\left(\\nu_1 + \\nu_2\\right)\\right] d\\nu_1 \\ d\\nu_2\n",
        "\\end{align}\n",
        "$$\n",
        "\n",
        "The convolution of two functions in one domain is the product of the transforms in the other:\n",
        "$$\n",
        "\\begin{align}\n",
        "\\left(f * g\\right)\\!\\left[t\\right] & = \\mathscr{F}^{-1}\\!\\Bigl[ F\\!\\left[\\nu\\right] G\\!\\left[\\nu\\right] \\Bigr] &\n",
        "\\left(F * G\\right)\\!\\left[\\nu\\right] & = \\mathscr{F}\\!\\Bigl[ f\\!\\left[t\\right] g\\!\\left[t\\right] \\Bigr]\n",
        "\\end{align}\n",
        "$$\n",
        "\n",
        "The support of a convolution is the sum of the support of its parts, thus, when on a discrete grid, the sum of the supports of the functions to be convolved should be less than the range of the gridded time or frequency domains in order to avoid aliasing information."
      ],
      "metadata": {
        "nteract": {
          "transient": {
            "deleting": false
          }
        }
      }
    },
    {
      "cell_type": "markdown",
      "source": [
        "### Normalization\n",
        "$$\n",
        "E = \\int_{-\\infty}^{\\infty} \\Bigl\\vert f\\!\\left[t\\right] \\Bigr\\vert^{2} dt = \\int_{-\\infty}^{\\infty} \\Bigl\\vert F\\!\\left[\\nu\\right] \\Bigr\\vert^{2} d\\nu\n",
        "$$\n",
        "\n",
        "This follows from [Parseval's Theorem](https://mathworld.wolfram.com/ParsevalsTheorem.html) for Fourier series, and equivalently from [Plancherel's Theorem](https://mathworld.wolfram.com/PlancherelsTheorem.html) for continuous Fourier transforms. In optics, this corresponds to integrating the power contained within a pulse and yields the total pulse energy."
      ],
      "metadata": {
        "nteract": {
          "transient": {
            "deleting": false
          }
        }
      }
    },
    {
      "cell_type": "markdown",
      "source": [
        "<a id=\"real-analytic\"><a/>\n",
        "### Real Functions and the Analytic Representation\n",
        "The real and imaginary components of $F\\!\\left[\\nu\\right]$ respectively have even and odd (cos, sin) symmetry about the origin *if $f\\!\\left[t\\right]$ is real* (since $e^{i \\ x} = \\cos\\left[x\\right] + i \\sin\\left[x\\right]$). This can be used to simplify the representation of real functions in the frequency domain, as all information is contained in only half of the spectrum. One possible representation is motivated by the normalization relationship:\n",
        "\n",
        "$$\n",
        "\\begin{align}\n",
        "E & = \\int_{-\\infty}^{\\infty} \\Bigl\\vert f\\!\\left[t\\right] \\Bigr\\vert^{2} dt = \\int_{-\\infty}^{\\infty} \\Bigl\\vert F\\!\\left[\\nu\\right] \\Bigr\\vert^{2} d\\nu \\\\\n",
        " & = 2 \\int_{0}^{\\infty} \\Bigl\\vert F\\!\\left[\\nu\\right] \\Bigr\\vert^{2} d\\nu = \\int_{0}^{\\infty} \\Bigl\\vert \\sqrt{2} \\ F\\!\\left[\\nu\\right] \\Bigr\\vert^{2} d\\nu\n",
        "\\end{align}\n",
        "$$\n",
        "\n",
        "If we replace the quantity in the absolute value with a single expression, we arrive at the analytical, or complex envelope, representation:\n",
        "\n",
        "$$\n",
        "E = \\int_{-\\infty}^{\\infty} \\Bigl\\vert A\\!\\left[\\nu\\right] \\Bigr\\vert^{2} d\\nu = \\int_{-\\infty}^{\\infty} \\Bigl\\vert a\\!\\left[t\\right] \\Bigr\\vert^{2} dt \\\\\n",
        "A\\!\\left[\\nu\\right] = \\begin{cases}\n",
        "    \\sqrt{2} \\ F\\!\\left[\\nu\\right] & \\text{if $\\nu \\geq 0$} \\\\\n",
        "    0 & \\text{if $\\nu \\lt 0$}\n",
        "\\end{cases} \\\\\n",
        "a\\!\\left[t\\right] = \\mathscr{F}^{-1}\\!\\Bigl[ A\\!\\left[\\nu\\right] \\Bigr] \\qquad A\\!\\left[\\nu\\right] = \\mathscr{F}\\!\\Bigl[ a\\!\\left[t\\right] \\Bigr]\n",
        "$$\n",
        "\n",
        "There are alternative ways of relating the analytic spectrum to the full Fourier transform of the real function, but this is the only one that does not require modifying the normalization relationship.\n",
        "\n",
        "Further simplifications can be made by shifting the analytic spectrum to the origin and discarding points that contain zero amplitude. That allows the efficient use of Fourier transforms over just a subset of the total frequency range of the real function, i.e. calculations need only be performed over the support of the analytical spectrum:\n",
        "$$\n",
        "\\nu^{\\prime} = \\nu - \\nu_0 \\\\\n",
        "A\\!\\left[\\nu^{\\prime}\\right] = \\begin{cases}\n",
        "    \\sqrt{2} \\ F\\!\\left[\\nu^{\\prime} + \\nu_0\\right] & \\text{if $\\nu^{\\prime} + \\nu_0 \\geq 0$} \\\\\n",
        "    0 & \\text{if $\\nu^{\\prime} + \\nu_0 \\lt 0$}\n",
        "\\end{cases} \\\\\n",
        "a\\!\\left[t\\right] = \\mathscr{F}^{-1}\\!\\Bigl[ A\\!\\left[\\nu^{\\prime}\\right] \\Bigr] \\qquad A\\!\\left[\\nu^{\\prime}\\right] = \\mathscr{F}\\!\\Bigl[ a\\!\\left[t\\right] \\Bigr]\n",
        "$$"
      ],
      "metadata": {
        "nteract": {
          "transient": {
            "deleting": false
          }
        }
      }
    },
    {
      "cell_type": "markdown",
      "source": [
        "## Numeric Implementation of DFTs\n",
        "Unfortunately, most numeric implementations of discrete Fourier transforms remove what is intuitive about all of the above equations and so require special care in their use and handling. Below are standard definitions of the discrete Fourier transform and inverse as found in popular numeric packages for Python (see [numpy.fft](https://docs.scipy.org/doc/numpy/reference/routines.fft.html) or [scipy.fft](https://docs.scipy.org/doc/scipy/reference/tutorial/fft.html)):\n",
        "\n",
        "$$\n",
        "\\begin{align}\n",
        "\\text{ifft:} \\quad & a\\!\\left[t_m\\right] = \\frac{1}{N} \\sum_{n=0}^{N-1} A\\!\\left[\\nu_n\\right] e^{i \\left(2\\pi \\frac{m \\ n}{N}\\right)} \\\\\n",
        "\\text{fft:} \\quad & A\\!\\left[\\nu_n\\right] = \\sum_{m=0}^{N-1} a\\!\\left[t_m\\right] e^{-i \\left(2\\pi \\frac{m \\ n}{N}\\right)}\n",
        "\\end{align}\n",
        "$$\n",
        "\n",
        "- The expression in the exponential is easily derived by replacing $t_m$ and $\\nu_n$ with their corresponding indexed values and using the relationship $dt \\ d\\nu = 1/N$. This is a direct result of the time and frequency grid definitions and represents only a simplification of the previous notation.\n",
        "- The leading $1/N$ for the ifft is due to the implementation implicitely defining the time step as a unit integer, $dt = 1$, such that $d\\nu = 1/N$. This breaks the energy normalization of the Fourier transform for arbitrary $dt/d\\nu$ ratios and *requires explicit removal from all ifft operations*.\n",
        "- The change of the summation indices' range disrupts the monotonic order of the coordinate indices and *requires consideration whenever using an fft or ifft operation*.\n"
      ],
      "metadata": {
        "nteract": {
          "transient": {
            "deleting": false
          }
        }
      }
    },
    {
      "cell_type": "markdown",
      "source": [
        "### fftshift and ifftshift\n",
        "The summation, or array indices range from $0$ to $N-1$, but do to aliasing the effective coordinate indices still range from $-\\lfloor N/2 \\rfloor$ to $\\lfloor(N-1)/2\\rfloor$. The coordinate indices follow the array indices up to the halfway point, but at array index $\\lfloor (N-1)/2 \\rfloor +1$ the coordinate grid aliases to $-\\lfloor N/2 \\rfloor$.  Array indices from $\\lfloor (N-1)/2 \\rfloor +1$ to $N-1$ represent negative time or frequency coordinates.\n",
        "\n",
        "This ordering is unintuitive and may not be immediately obvious from the above definitions, but it must be followed when using the fft and ifft functions to avoid numeric artifacts and erroneous results. To aid in that endeavor, numeric packages contain **fftshift** and **ifftshift** functions which reorder arrays such that they go from \"standard\" fft ordering to one with a monotonically ordered coordinate array and vice versa. In this regard, fftshift is used to translate the fft ordering to the monotonic ordering and ifftshift is used to go from the monotonic ordering to the fft ordering.\n",
        "\n",
        "The operation of the fftshift and ifftshift functions are shown in the table below, where indices at the beginning, middle, and end of an array are shown. The first column is the array index, the second is the aliased coordinate index, the third is the coordinate index after an fftshift operation, and the last column shows the restoration of the \"standard\" fft ordering after an fftshift operation is followed by an ifftshift operation.\n",
        "\n",
        "|array index                | coordinate index        | coord. after fftshift(...) | coord. after ifftshift(fftshift(...)) |\n",
        "|---------------------------|-------------------------|----------------------------|---------------------------------------|\n",
        "| $0$                       | $0$                     | $-\\lfloor N/2\\rfloor$      | $0$                                   |\n",
        "| $1$                       | $1$                     | $-\\lfloor N/2\\rfloor+1$    | $1$                                   |\n",
        "| $2$                       | $2$                     | $-\\lfloor N/2\\rfloor+2$    | $2$                                   |\n",
        "| ...                       | ...                     | ...                        | ...                                   |\n",
        "| $\\lfloor(N-1)/2\\rfloor$   | $\\lfloor(N-1)/2\\rfloor$ | $-1$                       | $\\lfloor(N-1)/2\\rfloor$               |\n",
        "| $\\lfloor(N-1)/2\\rfloor+1$ | $-\\lfloor N/2\\rfloor$   | $0$                        | $-\\lfloor N/2\\rfloor$                 |\n",
        "| $\\lfloor(N-1)/2\\rfloor+2$ | $-\\lfloor N/2\\rfloor+1$ | $1$                        | $-\\lfloor N/2\\rfloor+1$               |\n",
        "| ...                       | ...                     | ...                        | ...                                   |\n",
        "| $N-3$                     | $-3$                    | $\\lfloor(N-1)/2\\rfloor-2$  | $-3$                                  |\n",
        "| $N-2$                     | $-2$                    | $\\lfloor(N-1)/2\\rfloor-1$  | $-2$                                  |\n",
        "| $N-1$                     | $-1$                    | $\\lfloor(N-1)/2\\rfloor$    | $-1$                                  |"
      ],
      "metadata": {
        "nteract": {
          "transient": {
            "deleting": false
          }
        }
      }
    },
    {
      "cell_type": "markdown",
      "source": [
        "### Real DFTs\n",
        "The analytic formulation is useful for the efficient representation of real physical quantities, and interfaces nicely with the complex fft and ifft functions. However, there are times when the real representation is necessary or more efficient, such as when the input array is real or when dealing with nonlinear operations that are difficult to perform directly in analytic form. Many numerical packages include a more efficient implementation of the fft that only calculates and returns the positive half of the spectrum, specifically for transforming real input in the time domain. With the help of array indexing operations, these rfft and irfft operations allows simple translation from analytic to real valued representations:\n",
        "$$\n",
        "\\begin{align}\n",
        "\\text{irfft:} \\quad & f\\!\\left[t_m\\right] = \\operatorname{irfft}\\left( F\\!\\left[\\nu\\right] \\ N_r \\ d\\nu, \\quad n=N_r \\right)_m\\\\\n",
        "\\text{rfft:} \\quad & F\\!\\left[\\nu_n\\right] = \\operatorname{rfft}\\left( f\\!\\left[t\\right] \\ dt \\right)_n\n",
        "\\end{align} \\\\\n",
        "N_r = \\text{the number of sampled points in the time domain} \\\\\n",
        "dt \\ d\\nu = 1 / N_r\n",
        "$$\n",
        "\n",
        "One important property of these functions is that the *output of the rfft does not have the same number of points as its input*. In general, the frequency domain output array has $N = \\lfloor N_r/2 \\rfloor + 1$ number of points, where $N_r$ is the total number of points in the time domain. This does not pose any complications when using the rfft, but the integer division and the standard normalization procedure means that *the number of real output points must be explicitly given to the irfft function*. The number of points in the frequency domain has other implications, the *frequency domain output array is always arranged such that the coordinates are in monotonic order*. The time domain array should still be ordered as described in the previous section, but since the rfft only returns the positive side of the spectrum it stops before needing to wrap around, with the slight caveat that the Nyquist frequency (when reached) is considered positive instead of negative.\n",
        "\n",
        "The transformation between real and analytic representations must be adjusted due to the discrete nature of the frequency bins:\n",
        "$$\n",
        "A\\!\\left[\\nu_n\\right] = \\sqrt{2} \\ \\begin{cases}\n",
        "    \\frac{1}{\\sqrt{2}} \\ F\\!\\left[\\nu_n\\right] & \\text{if $\\nu_n = 0$} \\\\\n",
        "    \\\\\n",
        "    \\frac{1}{2} \\ F\\!\\left[\\nu_n\\right] & \\text{if $\\nu_n = \\lfloor N_r/2 \\rfloor d\\nu$ and } N_r \\text{ is even} \\\\\n",
        "    \\\\\n",
        "    F\\!\\left[\\nu_n\\right] & \\text{all other cases}\n",
        "\\end{cases}\n",
        "$$\n",
        "The first condition states that the amplitude at the origin of the analytic array is unchanged with respect to the real-valued representation. This is due to the frequency bin at the origin extending into both positive and negative frequencies. In order to preserve the integrated power, the power in that bin must not change. In the second condition, when the number of points in the real representation is even the bin contains information aliased from both the positive and negative Nyquist frequencies. The power is preserved only if one Nyquist component is considered, if only half of the combined amplitude is retained. In addition to the amplitude renormalization, the first and last point of the rfft array must obey the complex symmetry relationships about the origin. The amplitude at the origin must be real, and if the number of points in the real representation is even then the amplitude at the Nyquist frequency must also be real.\n",
        "\n",
        "Do to the added complexity of keeping track of these details, it is easier to just not include the origin or the real representation's Nyquist frequency in the analytic array, i.e. the origin and the Nyquist frequency of the real-valued representation should effectively have zero amplitude. This is easily accomplished by starting the frequency grid of the analytic representation away from the origin and using an odd number of points if the sampling is Nyquist limited. Then, the transformation from one representation to the other needs only use the uniform scaling of $\\sqrt{2}$ for all points."
      ],
      "metadata": {
        "nteract": {
          "transient": {
            "deleting": false
          }
        }
      }
    },
    {
      "cell_type": "markdown",
      "source": [
        "### FFT Cookbook\n",
        "When using fft and ifft functions it is best practice to follow a set of rules so that the normalization and array ordering quirks are always considered. Start by defining the time and frequency step sizes $dt$ and $d\\nu$ given the total number of points $N$:\n",
        "$$\n",
        "dt \\ d\\nu = 1/N\n",
        "$$\n",
        "\n",
        "Then define the full time and frequency grids $t_m$ and $\\nu_n$ using the array indices $m$ and $n$ ranging from $0$ to $N-1$. The frequency domain may have an optional offset $\\nu_0$. If planning to transform between the analytic and real-valued representations $\\nu_0$ must be integer divisible by $d\\nu$, and $\\nu_n$ should be greater than $0$ at all points:\n",
        "$$\n",
        "t_m = (m - \\lfloor N/2 \\rfloor) \\ dt \\qquad \\nu_n = \\nu_0 + (n - \\lfloor N/2 \\rfloor) \\ d\\nu\n",
        "$$\n",
        "\n",
        "The coordinate grids for the associated real-valued representation ${t_r}_m$ and ${\\nu_r}_n$ use array index $m$ ranging from $0$ to $N_r-1$ and array index $n$ ranging from $0$ to $\\lfloor N_r/2 \\rfloor$. The total number of points $N_r$ must allow transforming from the analytic representation without aliasing:\n",
        "$$\n",
        "dt_r \\ d\\nu = 1/N_r \\\\\n",
        "{t_r}_m = (m - \\lfloor N_r/2 \\rfloor) \\ dt_r \\qquad {\\nu_r}_n = n \\ d\\nu \n",
        "$$\n",
        "\n",
        "From this point there are two alternative paths to ensure that the fft and ifft functions always receive the correct ordering and that the ordering of the coordinate grids and amplitude arrays are always aligned. The first is to order all arrays such that the coordinate grids are in a monotonic order and then wrap calls to fft or ifft with the ifftshift and fftshift operations. The second is to order all arrays in the \"standard\" fft order and then only use the fftshift function when one wants to display the results with monotonically ordered coordinate arrays."
      ],
      "metadata": {
        "nteract": {
          "transient": {
            "deleting": false
          }
        }
      }
    },
    {
      "cell_type": "markdown",
      "source": [
        "#### Monotonic Order:\n",
        "\n",
        "- Keep the time and frequency grids as defined above.\n",
        "- Construct amplitude arrays $a\\left[t\\right]_m$ and $A\\left[\\nu\\right]_n$ using the same order as the coordinate arrays.\n",
        "- Transform between the analytic and real representations using the same order as the coordinate arrays:\n",
        "$$\n",
        "F\\left[\\nu_r\\right]_n = \\begin{cases}\n",
        "\\frac{1}{\\sqrt{2}} \\ A\\left[\\nu_r\\right]_n & \\text{if ${\\nu_r}_n \\in \\nu$} \\\\\n",
        "0 & \\text{all other cases}\n",
        "\\end{cases}\n",
        "$$\n",
        "- Nest all calls to fft and ifft between fftshift and ifftshift, include normalization factors $dt$ and $N \\ d\\nu$:\n",
        "$$\n",
        "\\begin{alignat}{4}\n",
        "& \\text{ifft:} & a\\left[t\\right]_m & = \\operatorname{fftshift}\\left(\\operatorname{ifft}\\left(\\operatorname{ifftshift}\\left( A\\!\\left[\\nu\\right] \\ N \\ d\\nu \\right)\\right)\\right)_m \\\\\n",
        "& \\text{fft:} & A\\left[\\nu\\right]_n & = \\operatorname{fftshift}\\left(\\operatorname{fft}\\left(\\operatorname{ifftshift}\\left( a\\!\\left[t\\right] \\ dt \\right)\\right)\\right)_n \\\\\n",
        "& \\text{irfft:} & f\\left[t_r\\right]_m & = \\operatorname{fftshift}\\left(\\operatorname{irfft}\\left( F\\!\\left[\\nu_r\\right] \\ N_r \\ d\\nu , \\quad n=N_r\\right)\\right)_m\\\\\n",
        "& \\text{rfft:} & F\\left[\\nu_r\\right]_n & = \\operatorname{rfft}\\left(\\operatorname{ifftshift}\\left( f\\!\\left[t_r\\right] \\ dt_r \\right)\\right)_n\n",
        "\\end{alignat}\n",
        "$$\n",
        "- Display the coordinate and amplitude arrays without any other modification."
      ],
      "metadata": {
        "nteract": {
          "transient": {
            "deleting": false
          }
        }
      }
    },
    {
      "cell_type": "markdown",
      "source": [
        "#### Standard FFT Order:\n",
        "\n",
        "- Store the time and frequency grids in standard fft order:\n",
        "$$\n",
        "\\begin{align}\n",
        "t_m & = \\operatorname{ifftshift}(t)_m & \\nu_n & = \\operatorname{ifftshift}(\\nu)_n \\\\\n",
        "{t_r}_m & = \\operatorname{ifftshift}(t_r)_m & {\\nu_r}_n & = \\text{as defined above}\n",
        "\\end{align}\n",
        "$$\n",
        "- Construct amplitude arrays $a\\left[t\\right]_m$ and $A\\left[\\nu\\right]_n$ using the same order as the coordinate arrays.\n",
        "- Transform between the analytic and real representations after an fftshift operation on the analytic array:\n",
        "$$\n",
        "F\\left[\\nu_r\\right]_n = \\begin{cases}\n",
        "\\frac{1}{\\sqrt{2}} \\ \\operatorname{fftshift}\\left(A\\!\\left[\\nu_r\\right]\\right)_n & \\text{if ${\\nu_r}_n \\in \\nu$} \\\\\n",
        "0 & \\text{all other cases}\n",
        "\\end{cases}\n",
        "$$\n",
        "- Call fft and ifft without any fftshift or ifftshift, include normalization factors $dt$ and $N \\ d\\nu$:\n",
        "$$\n",
        "\\begin{alignat}{4}\n",
        "& \\text{ifft:} & a\\left[t\\right]_m & = \\operatorname{ifft}\\left( A\\!\\left[\\nu\\right] \\ N \\ d\\nu \\right)_m\\\\\n",
        "& \\text{fft:} & A\\left[\\nu\\right]_n & = \\operatorname{fft}\\left( a\\!\\left[t\\right] \\ dt \\right)_n \\\\\n",
        "& \\text{irfft:} & f\\left[t_r\\right]_m & = \\operatorname{irfft}\\left( F\\!\\left[\\nu_r\\right] \\ N_r \\ d\\nu , \\quad n=N_r\\right)_m\\\\\n",
        "& \\text{rfft:} & F\\left[\\nu_r\\right]_n & = \\operatorname{rfft}\\left( f\\!\\left[t_r\\right] \\ dt_r \\right)_n\n",
        "\\end{alignat}\n",
        "$$\n",
        "- Display the coordinate and amplitude arrays after applying fftshift."
      ],
      "metadata": {
        "nteract": {
          "transient": {
            "deleting": false
          }
        }
      }
    }
  ],
  "metadata": {
    "kernel_info": {
      "name": "python3"
    },
    "language_info": {
      "name": "python",
      "version": "3.7.1",
      "mimetype": "text/x-python",
      "codemirror_mode": {
        "name": "ipython",
        "version": 3
      },
      "pygments_lexer": "ipython3",
      "nbconvert_exporter": "python",
      "file_extension": ".py"
    },
    "kernelspec": {
      "argv": [
        "C:/Users/Connor/Anaconda3\\python.exe",
        "-m",
        "ipykernel_launcher",
        "-f",
        "{connection_file}"
      ],
      "display_name": "Python 3",
      "language": "python",
      "name": "python3"
    },
    "nteract": {
      "version": "0.23.1"
    }
  },
  "nbformat": 4,
  "nbformat_minor": 0
}